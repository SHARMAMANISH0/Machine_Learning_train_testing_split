{
 "cells": [
  {
   "cell_type": "code",
   "execution_count": 1,
   "id": "ca8de97d",
   "metadata": {},
   "outputs": [],
   "source": [
    "# data ===> Input(x),Target(y)\n",
    "# Input(x) ===> x_train,x_test\n",
    " # Target(y)===> y_train, y_test"
   ]
  },
  {
   "cell_type": "code",
   "execution_count": 2,
   "id": "b42e216e",
   "metadata": {},
   "outputs": [],
   "source": [
    "#ML Workflow ===>\n",
    "#Data Gathering ===> Data cleaning and Preprocessing ==> ML Models(x_)"
   ]
  },
  {
   "cell_type": "code",
   "execution_count": 3,
   "id": "9d1fb253",
   "metadata": {},
   "outputs": [],
   "source": [
    "import numpy as np \n",
    "import pandas as pd"
   ]
  },
  {
   "cell_type": "code",
   "execution_count": 4,
   "id": "a28843c6",
   "metadata": {},
   "outputs": [],
   "source": [
    "df=pd.read_csv(\"C:\\\\Users\\\\BHARAMAN\\\\Downloads\\\\placement - placement.csv\")"
   ]
  },
  {
   "cell_type": "code",
   "execution_count": 5,
   "id": "fc7433b6",
   "metadata": {},
   "outputs": [
    {
     "data": {
      "text/html": [
       "<div>\n",
       "<style scoped>\n",
       "    .dataframe tbody tr th:only-of-type {\n",
       "        vertical-align: middle;\n",
       "    }\n",
       "\n",
       "    .dataframe tbody tr th {\n",
       "        vertical-align: top;\n",
       "    }\n",
       "\n",
       "    .dataframe thead th {\n",
       "        text-align: right;\n",
       "    }\n",
       "</style>\n",
       "<table border=\"1\" class=\"dataframe\">\n",
       "  <thead>\n",
       "    <tr style=\"text-align: right;\">\n",
       "      <th></th>\n",
       "      <th>cgpa</th>\n",
       "      <th>resume_score</th>\n",
       "      <th>placed</th>\n",
       "    </tr>\n",
       "  </thead>\n",
       "  <tbody>\n",
       "    <tr>\n",
       "      <th>0</th>\n",
       "      <td>8.14</td>\n",
       "      <td>6.52</td>\n",
       "      <td>1</td>\n",
       "    </tr>\n",
       "    <tr>\n",
       "      <th>1</th>\n",
       "      <td>6.17</td>\n",
       "      <td>5.17</td>\n",
       "      <td>0</td>\n",
       "    </tr>\n",
       "    <tr>\n",
       "      <th>2</th>\n",
       "      <td>8.27</td>\n",
       "      <td>8.86</td>\n",
       "      <td>1</td>\n",
       "    </tr>\n",
       "  </tbody>\n",
       "</table>\n",
       "</div>"
      ],
      "text/plain": [
       "   cgpa  resume_score  placed\n",
       "0  8.14          6.52       1\n",
       "1  6.17          5.17       0\n",
       "2  8.27          8.86       1"
      ]
     },
     "execution_count": 5,
     "metadata": {},
     "output_type": "execute_result"
    }
   ],
   "source": [
    "df.head(3)"
   ]
  },
  {
   "cell_type": "code",
   "execution_count": 6,
   "id": "12d1b223",
   "metadata": {},
   "outputs": [],
   "source": [
    "x = df.drop(columns = ['placed'],axis = 1) ##input coiumns\n",
    "y = df['placed'] ## Target coiumns"
   ]
  },
  {
   "cell_type": "code",
   "execution_count": 7,
   "id": "77d8ecac",
   "metadata": {},
   "outputs": [
    {
     "name": "stdout",
     "output_type": "stream",
     "text": [
      "Requirement already satisfied: scikit-learn in c:\\users\\bharaman\\anaconda3\\lib\\site-packages (1.3.0)\n",
      "Requirement already satisfied: numpy>=1.17.3 in c:\\users\\bharaman\\anaconda3\\lib\\site-packages (from scikit-learn) (1.24.3)\n",
      "Requirement already satisfied: scipy>=1.5.0 in c:\\users\\bharaman\\anaconda3\\lib\\site-packages (from scikit-learn) (1.11.1)\n",
      "Requirement already satisfied: joblib>=1.1.1 in c:\\users\\bharaman\\anaconda3\\lib\\site-packages (from scikit-learn) (1.2.0)\n",
      "Requirement already satisfied: threadpoolctl>=2.0.0 in c:\\users\\bharaman\\anaconda3\\lib\\site-packages (from scikit-learn) (2.2.0)\n"
     ]
    }
   ],
   "source": [
    "!pip install scikit-learn"
   ]
  },
  {
   "cell_type": "code",
   "execution_count": 8,
   "id": "5db562b2",
   "metadata": {},
   "outputs": [],
   "source": [
    "from sklearn.model_selection import train_test_split"
   ]
  },
  {
   "cell_type": "code",
   "execution_count": 14,
   "id": "5cc0513a",
   "metadata": {},
   "outputs": [],
   "source": [
    "x_train,x_test,y_train,y_test =train_test_split(x,y,test_size =0.3,random_state=30)"
   ]
  },
  {
   "cell_type": "code",
   "execution_count": 15,
   "id": "df9136e2",
   "metadata": {},
   "outputs": [
    {
     "name": "stdout",
     "output_type": "stream",
     "text": [
      "Total Data Shape : (100, 3)\n",
      "Independet Data Shape(x) : (100, 2)\n",
      "x_train Data Shape(x_train) : (70, 2)\n",
      "x_test Data Shape(x_test) : (30, 2)\n",
      "Dependent Data Shape(y) : (100,)\n",
      "y_train Data Shape(y_train) : (70,)\n",
      "y_test Data Shape(y_test) : (30,)\n"
     ]
    }
   ],
   "source": [
    "print(\"Total Data Shape :\" , df.shape)\n",
    "print(\"Independet Data Shape(x) :\" , x.shape)\n",
    "print(\"x_train Data Shape(x_train) :\" , x_train.shape)\n",
    "print(\"x_test Data Shape(x_test) :\" , x_test.shape)\n",
    "print(\"Dependent Data Shape(y) :\" , y.shape)\n",
    "print(\"y_train Data Shape(y_train) :\" , y_train.shape)\n",
    "print(\"y_test Data Shape(y_test) :\" , y_test.shape)"
   ]
  },
  {
   "cell_type": "code",
   "execution_count": 17,
   "id": "c7c97ddf",
   "metadata": {},
   "outputs": [],
   "source": [
    "# df(100,3) = x(100,2) + y(100,1) \n",
    "# x(100,2) = x_train(70,2) + x_test(30,2) \n",
    "# y(100,1) = y_train(70,1) + y_test(30,1) "
   ]
  },
  {
   "cell_type": "code",
   "execution_count": null,
   "id": "60bf396d",
   "metadata": {},
   "outputs": [],
   "source": [
    "### new Data tips.csv"
   ]
  },
  {
   "cell_type": "code",
   "execution_count": 19,
   "id": "58de1cc9",
   "metadata": {},
   "outputs": [],
   "source": [
    "df  = pd.read_csv(\"C:\\\\Users\\\\BHARAMAN\\\\Downloads\\\\tips - tips.csv\")"
   ]
  },
  {
   "cell_type": "code",
   "execution_count": 20,
   "id": "89a80517",
   "metadata": {},
   "outputs": [
    {
     "data": {
      "text/html": [
       "<div>\n",
       "<style scoped>\n",
       "    .dataframe tbody tr th:only-of-type {\n",
       "        vertical-align: middle;\n",
       "    }\n",
       "\n",
       "    .dataframe tbody tr th {\n",
       "        vertical-align: top;\n",
       "    }\n",
       "\n",
       "    .dataframe thead th {\n",
       "        text-align: right;\n",
       "    }\n",
       "</style>\n",
       "<table border=\"1\" class=\"dataframe\">\n",
       "  <thead>\n",
       "    <tr style=\"text-align: right;\">\n",
       "      <th></th>\n",
       "      <th>total_bill</th>\n",
       "      <th>tip</th>\n",
       "      <th>sex</th>\n",
       "      <th>smoker</th>\n",
       "      <th>day</th>\n",
       "      <th>time</th>\n",
       "      <th>size</th>\n",
       "    </tr>\n",
       "  </thead>\n",
       "  <tbody>\n",
       "    <tr>\n",
       "      <th>0</th>\n",
       "      <td>16.99</td>\n",
       "      <td>1.01</td>\n",
       "      <td>Female</td>\n",
       "      <td>No</td>\n",
       "      <td>Sun</td>\n",
       "      <td>Dinner</td>\n",
       "      <td>2</td>\n",
       "    </tr>\n",
       "    <tr>\n",
       "      <th>1</th>\n",
       "      <td>10.34</td>\n",
       "      <td>1.66</td>\n",
       "      <td>Male</td>\n",
       "      <td>No</td>\n",
       "      <td>Sun</td>\n",
       "      <td>Dinner</td>\n",
       "      <td>3</td>\n",
       "    </tr>\n",
       "    <tr>\n",
       "      <th>2</th>\n",
       "      <td>21.01</td>\n",
       "      <td>3.50</td>\n",
       "      <td>Male</td>\n",
       "      <td>No</td>\n",
       "      <td>Sun</td>\n",
       "      <td>Dinner</td>\n",
       "      <td>3</td>\n",
       "    </tr>\n",
       "  </tbody>\n",
       "</table>\n",
       "</div>"
      ],
      "text/plain": [
       "   total_bill   tip     sex smoker  day    time  size\n",
       "0       16.99  1.01  Female     No  Sun  Dinner     2\n",
       "1       10.34  1.66    Male     No  Sun  Dinner     3\n",
       "2       21.01  3.50    Male     No  Sun  Dinner     3"
      ]
     },
     "execution_count": 20,
     "metadata": {},
     "output_type": "execute_result"
    }
   ],
   "source": [
    "df.head(3)"
   ]
  },
  {
   "cell_type": "code",
   "execution_count": 23,
   "id": "82167465",
   "metadata": {},
   "outputs": [
    {
     "data": {
      "text/plain": [
       "total_bill    0\n",
       "tip           0\n",
       "sex           0\n",
       "smoker        0\n",
       "day           0\n",
       "time          0\n",
       "size          0\n",
       "dtype: int64"
      ]
     },
     "execution_count": 23,
     "metadata": {},
     "output_type": "execute_result"
    }
   ],
   "source": [
    "# check misin g value\n",
    "df.isnull().sum()"
   ]
  },
  {
   "cell_type": "code",
   "execution_count": 24,
   "id": "c3551831",
   "metadata": {},
   "outputs": [],
   "source": [
    "x = df.drop(columns = ['total_bill'] , axis = 1)\n",
    "y = df['total_bill']"
   ]
  },
  {
   "cell_type": "code",
   "execution_count": 25,
   "id": "9b7e2862",
   "metadata": {},
   "outputs": [],
   "source": [
    "from sklearn.model_selection import train_test_split "
   ]
  },
  {
   "cell_type": "code",
   "execution_count": 26,
   "id": "8e79f789",
   "metadata": {},
   "outputs": [],
   "source": [
    "x_train , x_test , y_train , y_test = train_test_split(x,y,test_size  = 0.2 , random_state = 42)"
   ]
  },
  {
   "cell_type": "code",
   "execution_count": 27,
   "id": "97ad0a11",
   "metadata": {},
   "outputs": [
    {
     "name": "stdout",
     "output_type": "stream",
     "text": [
      "Total Data Shape : (244, 7)\n",
      "Independet Data Shape(x) : (244, 6)\n",
      "x_train Data Shape(x_train) : (195, 6)\n",
      "x_test Data Shape(x_test) : (49, 6)\n",
      "Dependent Data Shape(y) : (244,)\n",
      "y_train Data Shape(y_train) : (195,)\n",
      "y_test Data Shape(y_test) : (49,)\n"
     ]
    }
   ],
   "source": [
    "print(\"Total Data Shape :\" , df.shape)\n",
    "print(\"Independet Data Shape(x) :\" , x.shape)\n",
    "print(\"x_train Data Shape(x_train) :\" , x_train.shape)\n",
    "print(\"x_test Data Shape(x_test) :\" , x_test.shape)\n",
    "print(\"Dependent Data Shape(y) :\" , y.shape)\n",
    "print(\"y_train Data Shape(y_train) :\" , y_train.shape)\n",
    "print(\"y_test Data Shape(y_test) :\" , y_test.shape)"
   ]
  },
  {
   "cell_type": "code",
   "execution_count": null,
   "id": "fbbc5d29",
   "metadata": {},
   "outputs": [],
   "source": []
  }
 ],
 "metadata": {
  "kernelspec": {
   "display_name": "Python 3 (ipykernel)",
   "language": "python",
   "name": "python3"
  },
  "language_info": {
   "codemirror_mode": {
    "name": "ipython",
    "version": 3
   },
   "file_extension": ".py",
   "mimetype": "text/x-python",
   "name": "python",
   "nbconvert_exporter": "python",
   "pygments_lexer": "ipython3",
   "version": "3.11.5"
  }
 },
 "nbformat": 4,
 "nbformat_minor": 5
}
